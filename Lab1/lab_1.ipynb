
{
 "cells": [
  {
   "cell_type": "markdown",
   "metadata": {
    "colab_type": "text",
    "id": "view-in-github"
   },
   "source": [
    "<a href=\"https://colab.research.google.com/github/shef143/CE888-7-SP/blob/main/lab_1/Copy_of_Lab_1.ipynb\" target=\"_parent\"><img src=\"https://colab.research.google.com/assets/colab-badge.svg\" alt=\"Open In Colab\"/></a>"
   ]
  },
  {
   "cell_type": "markdown",
   "metadata": {
    "id": "6X-TO_KR1mjo"
   },
   "source": [
    "## Questions to be done during the lab:\n",
    "\n",
    "**Questions 1.** \n",
    "Write a function name 'avg', which take an array of number and calculate the average\n",
    "\n",
    "\n"
   ]
  },
  {
   "cell_type": "code",
   "execution_count": null,
   "metadata": {
    "id": "vbu3Vga33lw3"
   },
   "outputs": [],
   "source": [
    "def avg(marks):\n",
    "  return sum(marks)/len(marks)\n",
    "    \n",
    "\n",
    "mark2 = [55,88,78,90,79]"
   ]
  },
  {
   "cell_type": "code",
   "execution_count": null,
   "metadata": {
    "id": "MtgR1Y695RpD"
   },
   "outputs": [],
   "source": [
    "# Only run this cell to check your answer. If it is true then no error will be raised\n",
    "assert(avg(mark2) == np.mean(mark2))"
   ]
  },
  {
   "cell_type": "markdown",
   "metadata": {
    "id": "W1hVtS896cfi"
   },
   "source": [
    "**Questions 2**.\n",
    "Write a function name 'areaCricle', which take radius as a argument and calculate the area. \n",
    "\n"
   ]
  },
  {
   "cell_type": "code",
   "execution_count": null,
   "metadata": {
    "colab": {
     "base_uri": "https://localhost:8080/"
    },
    "id": "Fn7_nt8-vUao",
    "outputId": "3e8a0a1f-66b2-47e8-d088-6c57d1171e4a"
   },
   "outputs": [
    {
     "data": {
      "text/plain": [
       "314.1592653589793"
      ]
     },
     "execution_count": 27,
     "metadata": {
      "tags": []
     },
     "output_type": "execute_result"
    }
   ],
   "source": [
    "from math import pi # Use pi value from math package\n",
    "def areaCricle(radius):\n",
    "    return pi*radius*radius\n",
    "    #x =round((area),2)\n",
    "areaCricle(10)"
   ]
  },
  {
   "cell_type": "code",
   "execution_count": null,
   "metadata": {
    "id": "BML90x25vikN"
   },
   "outputs": [],
   "source": [
    "# Only run this cell to check your answer. If it is true then no error will be raised\n",
    "assert(round(areaCricle(10),2) == 314.16)"
   ]
  },
  {
   "cell_type": "markdown",
   "metadata": {
    "id": "_EfKc7-3x2k8"
   },
   "source": [
    "**Question 3.**\n",
    "Write a function that takes a list of items and returns a new list with the order of items reversed, without using any inbuilt Python features that will do this for you (e.g. .reverse() or reversed(…)). As specified in the instructions, your function must not modify the contents of the original list."
   ]
  },
  {
   "cell_type": "code",
   "execution_count": null,
   "metadata": {
    "id": "rEtOO9yPyKwe"
   },
   "outputs": [],
   "source": [
    "def reversed_list(in_list):\n",
    "    inverse = []\n",
    "    length = len(in_list)\n",
    "    count = length - 1\n",
    "    for i in range(length):\n",
    "      invere . append (in_list[count])\n",
    "      count -= 1\n",
    "    return inverse"
   ]
  },
  {
   "cell_type": "code",
   "execution_count": null,
   "metadata": {
    "id": "bVyMOVMLyRib"
   },
   "outputs": [],
   "source": [
    "# Only run this cell to check your answer. If it is true then no error will be raised\n",
    "assert(reversed_list([1, 2]) == [2, 1])"
   ]
  },
  {
   "cell_type": "markdown",
   "metadata": {
    "id": "DFQPTbd90pPN"
   },
   "source": [
    "**Question 4.** \n",
    "\n",
    "*Read carefully: *Write a function to perform a Bubble Sort on a list of numbers. \n",
    "\n",
    "Bubble sort is a sorting algorithm and works by iterating over the list, comparing adjacent items, and swapping them if they are out of order.\n",
    "\n",
    "Notice that after the first pass of a bubble sort, the biggest item is always moved to the end of the list. This means the next iteration does not need to check the final position of the list.\n",
    "\n",
    "In addition, you can keep track of how many items were swapped on each iteration. If this count is zero on any iteration, then the list must be fully sorted, in which case the algorithm can stop early.\n",
    "\n",
    "Hint: To understand Bubble Sort Algorithm, please [Watch](https://www.youtube.com/watch?v=xli_FI7CuzA)"
   ]
  },
  {
   "cell_type": "code",
   "execution_count": null,
   "metadata": {
    "id": "sGkDiI3b1DpQ"
   },
   "outputs": [],
   "source": [
    "def bubble_sort(in_list):\n",
    "    # YOUR CODE HERE\n",
    "    for i in range(len(in_list)):\n",
    "        for j in range(len(in_list) - 1):\n",
    "            if in_list[j] > in_list[j+1]:\n",
    "                in_list[j], in_list[j+1] = in_list[j+1], in_list[j]  \n",
    "\n",
    "    return in_list                 \n",
    "\n",
    "    raise NotImplementedError()"
   ]
  },
  {
   "cell_type": "code",
   "execution_count": null,
   "metadata": {
    "id": "ReCP5Nv_1ETF"
   },
   "outputs": [],
   "source": [
    "# Only run this cell to check your answer. If it is true then no error will be raised\n",
    "assert(bubble_sort([37, 42, 9, 19, 35, 4, 53, 22]) == [4, 9, 19, 22, 35, 37, 42, 53])\n",
    "assert(bubble_sort([5, 4, 3, 2, 1]) == [1, 2, 3, 4, 5])"
   ]
  },
  {
   "cell_type": "markdown",
   "metadata": {
    "id": "c6y0x8KsvySS"
   },
   "source": [
    "**Question 5.** \n",
    "\n",
    "Write a function to find $n^{th}$ Fibonacci number\n",
    "The Fibonacci numbers are the numbers in the following integer sequence.\n",
    "\n",
    "| 1  | 2 | 3  | 4 | 5  | 6 | 7  | 8 | 9 | 10 | 11 | 12 |\n",
    "| -- |-- | -- | --| -- | --| -- | --|-- | -- |-- |-- |\n",
    "| 0  | 1 | 1  | 2 | 3  | 5 | 8  | 13| 21| 34 |55 |89 |\n",
    "\n",
    "Please consider index starting from 1\n",
    "\n",
    "In mathematical terms, the sequence $F_n$ of Fibonacci numbers is defined by the recurrence relation \n",
    "\n",
    "$F_n = F_n-1 + F_n-2$\n",
    "\n",
    "with seed values \n",
    "\n",
    "$F_0 = 0$ and $F_1 = 1$\n"
   ]
  },
  {
   "cell_type": "code",
   "execution_count": null,
   "metadata": {
    "colab": {
     "base_uri": "https://localhost:8080/"
    },
    "id": "dlMnigUrvxb9",
    "outputId": "49dc40c7-0561-43b6-c8c1-b0f7cb297898"
   },
   "outputs": [
    {
     "data": {
      "text/plain": [
       "0"
      ]
     },
     "execution_count": 25,
     "metadata": {
      "tags": []
     },
     "output_type": "execute_result"
    }
   ],
   "source": [
    "def Fibonacci(n):\n",
    "   if n <=0:\n",
    "     print('incorrect') \n",
    "   elif n== 1:\n",
    "        return 0 \n",
    "   elif n== 2: \n",
    "        return 1\n",
    "   else: \n",
    "        return Fibonacci(F-1)+Fibonacci(F-2)   \n",
    "\n",
    "\n",
    "Fibonacci(1)"
   ]
  },
  {
   "cell_type": "code",
   "execution_count": null,
   "metadata": {
    "id": "8OJv6zQKxzKj"
   },
   "outputs": [],
   "source": [
    "# Only run this cell to check your answer. If it is true then no error will be raised\n",
    "assert(Fibonacci(7) == 8)\n",
    "assert(Fibonacci(9) == 21)"
   ]
  }
 ],
 "metadata": {
  "colab": {
   "include_colab_link": true,
   "name": "Copy of Lab_1.ipynb",
   "provenance": []
  },
  "kernelspec": {
   "display_name": "Python 3",
   "language": "python",
   "name": "python3"
  },
  "language_info": {
   "codemirror_mode": {
    "name": "ipython",
    "version": 3
   },
   "file_extension": ".py",
   "mimetype": "text/x-python",
   "name": "python",
   "nbconvert_exporter": "python",
   "pygments_lexer": "ipython3",
   "version": "3.8.5"
  }
 },
 "nbformat": 4,
 "nbformat_minor": 1
}
